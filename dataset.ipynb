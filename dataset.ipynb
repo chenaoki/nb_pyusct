{
 "cells": [
  {
   "cell_type": "code",
   "execution_count": 275,
   "metadata": {},
   "outputs": [],
   "source": [
    "import os, json, glob\n",
    "import numpy as np\n",
    "import matplotlib.pyplot as plt\n",
    "from scipy import signal\n",
    "import scipy.ndimage\n",
    "\n",
    "import pyusct\n",
    "from pyusct.preprocess import load_usctsim_result, draw_input\n",
    "\n",
    "%matplotlib inline\n"
   ]
  },
  {
   "cell_type": "markdown",
   "metadata": {},
   "source": [
    "### parameters"
   ]
  },
  {
   "cell_type": "code",
   "execution_count": 300,
   "metadata": {},
   "outputs": [
    {
     "data": {
      "text/plain": [
       "['/mnt/nas/nb_usctsim/sim_001/trial_001']"
      ]
     },
     "execution_count": 300,
     "metadata": {},
     "output_type": "execute_result"
    }
   ],
   "source": [
    "sim_result_dirs = glob.glob(\"/mnt/nas/nb_usctsim/sim_001/trial*\")\n",
    "sim_result_dirs.sort()\n",
    "sim_result_dirs = sim_result_dirs[:1]\n",
    "sim_result_dirs"
   ]
  },
  {
   "cell_type": "code",
   "execution_count": 301,
   "metadata": {},
   "outputs": [],
   "source": [
    "out_dir = \"/mnt/nas/PYUSCT_train/dataset003/\""
   ]
  },
  {
   "cell_type": "code",
   "execution_count": 302,
   "metadata": {},
   "outputs": [],
   "source": [
    "# 入力RFデータ抽出範囲\n",
    "offset_min = -100\n",
    "offset_max = 100\n",
    "offset_int = 5\n",
    "\n",
    "# 出力画像サイズ\n",
    "radius = 2\n",
    "\n",
    "# 出力画像サンプリング数\n",
    "num_sampling = 10"
   ]
  },
  {
   "cell_type": "markdown",
   "metadata": {},
   "source": [
    "### 教師データ生成"
   ]
  },
  {
   "cell_type": "code",
   "execution_count": 101,
   "metadata": {},
   "outputs": [],
   "source": [
    "def norm_mat(mat):\n",
    "    r = mat.max() - mat.min()\n",
    "    if r == 0 : pass\n",
    "    return (mat - np.min(mat)) / r"
   ]
  },
  {
   "cell_type": "code",
   "execution_count": 303,
   "metadata": {},
   "outputs": [],
   "source": [
    "# 出力先ディレクトリ\n",
    "if not os.path.exists(out_dir): \n",
    "    os.makedirs(os.path.join(out_dir, \"input\"))   # 入力データ\n",
    "    os.makedirs(os.path.join(out_dir, \"output\"))  # 出力データ  \n",
    "    \n",
    "# パラメータ設定保存\n",
    "p = {}\n",
    "p[\"offset\"] = {\"min\": offset_min, \"max\":offset_max, \"interval\":offset_int}\n",
    "p[\"outrad\"] = radius\n",
    "with open(os.path.join(out_dir,\"param.json\"), 'w') as outf:\n",
    "    json.dump(p, outf, indent=4)\n",
    "\n",
    "cnt = 0\n",
    "with open(os.path.join(out_dir, \"list.csv\"), 'w') as outf: #\n",
    "    outf.write('id,source,ix,iy,x,y\\n')\n",
    "\n",
    "    for sim_result_dir in sim_result_dirs:\n",
    "\n",
    "        # シミュレーション結果の読み込み\n",
    "        param, arr_cart_pos, mask_points, map_speed, map_dens, rfdata = load_usctsim_result(sim_result_dir)\n",
    "\n",
    "        # インピーダンス画像\n",
    "        map_impedance = np.array(map_dens, dtype=np.float64) * np.array(map_speed, dtype=np.float64)\n",
    "        map_impedance = norm_mat(map_impedance)\n",
    "        #     plt.imshow(map_impedance)\n",
    "        #     plt.colorbar()\n",
    "\n",
    "        # インピーダンス勾配画像\n",
    "        map_grad = abs(scipy.ndimage.filters.gaussian_gradient_magnitude(map_impedance, sigma=1))\n",
    "        #     plt.imshow(map_grad)\n",
    "        #     plt.colorbar()\n",
    "\n",
    "        for i in range(num_sampling): # 出力画像内サンプリング\n",
    "\n",
    "            ix = np.random.randint(int(param[\"grid\"][\"Nx\"]*0.25), int(param[\"grid\"][\"Nx\"]*0.75))\n",
    "            iy = np.random.randint(int(param[\"grid\"][\"Ny\"]*0.25), int(param[\"grid\"][\"Ny\"]*0.75))\n",
    "\n",
    "            x = (ix - param[\"grid\"][\"Nx\"]/2) * param[\"grid\"][\"dx\"]\n",
    "            y = (iy - param[\"grid\"][\"Ny\"]/2) * param[\"grid\"][\"dy\"]\n",
    "\n",
    "            out_image = map_grad[iy-radius:iy+radius+1, ix-radius:ix+radius+1]\n",
    "\n",
    "            _, submat = rfdata.getPointSubset([y, x], np.arange(offset_min,offset_max, offset_int))\n",
    "\n",
    "            np.save(os.path.join(os.path.join(out_dir,\"input\"), '{0:0>6}'.format(i)), submat)\n",
    "            np.save(os.path.join(os.path.join(out_dir,\"output\"),'{0:0>6}'.format(i)), out_image)\n",
    "\n",
    "            outf.write('{0},{1},{2},{3},{4},{5}\\n'.format(cnt, sim_result_dir, ix,iy,x,y))\n",
    "            cnt += 1"
   ]
  }
 ],
 "metadata": {
  "kernelspec": {
   "display_name": "Python 3",
   "language": "python",
   "name": "python3"
  },
  "language_info": {
   "codemirror_mode": {
    "name": "ipython",
    "version": 2
   },
   "file_extension": ".py",
   "mimetype": "text/x-python",
   "name": "python",
   "nbconvert_exporter": "python",
   "pygments_lexer": "ipython2",
   "version": "2.7.12"
  }
 },
 "nbformat": 4,
 "nbformat_minor": 1
}
