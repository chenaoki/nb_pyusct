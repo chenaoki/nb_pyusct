{
 "cells": [
  {
   "cell_type": "code",
   "execution_count": 1,
   "metadata": {},
   "outputs": [],
   "source": [
    "import numpy as np\n",
    "import matplotlib.pyplot as plt\n",
    "\n",
    "import json\n",
    "import h5py\n",
    "import os\n",
    "import scipy.io\n",
    "\n",
    "%matplotlib inline\n"
   ]
  },
  {
   "cell_type": "code",
   "execution_count": 2,
   "metadata": {},
   "outputs": [],
   "source": [
    "import pyusct\n",
    "#from pyusct.rfdata import RFdata, \n",
    "from pyusct.preprocess import  preprocess"
   ]
  },
  {
   "cell_type": "markdown",
   "metadata": {},
   "source": [
    "# parameters"
   ]
  },
  {
   "cell_type": "code",
   "execution_count": 5,
   "metadata": {},
   "outputs": [],
   "source": [
    "result_path = \"/mnt/nas/2017-12-18_1/\"\n",
    "param_path = os.path.join(result_path, 'param.json')"
   ]
  },
  {
   "cell_type": "code",
   "execution_count": 6,
   "metadata": {},
   "outputs": [
    {
     "name": "stdout",
     "output_type": "stream",
     "text": [
      "{\n",
      "    \"ringarray\": {\n",
      "        \"num_points\": 256, \n",
      "        \"radius\": 0.05\n",
      "    }, \n",
      "    \"source\": {\n",
      "        \"point_map\": [\n",
      "            1, \n",
      "            17, \n",
      "            33, \n",
      "            49, \n",
      "            65, \n",
      "            81, \n",
      "            97, \n",
      "            113, \n",
      "            129, \n",
      "            145, \n",
      "            161, \n",
      "            177, \n",
      "            193, \n",
      "            209, \n",
      "            225, \n",
      "            241\n",
      "        ], \n",
      "        \"waveform\": {\n",
      "            \"wavenum\": 1, \n",
      "            \"magnitude\": 50, \n",
      "            \"type\": \"sinusoidal\", \n",
      "            \"freq\": 2000000.0, \n",
      "            \"wavenum_offset\": 2\n",
      "        }\n",
      "    }, \n",
      "    \"grid\": {\n",
      "        \"Nx\": 1024, \n",
      "        \"Ny\": 1024, \n",
      "        \"dx\": 0.000125, \n",
      "        \"dy\": 0.000125\n",
      "    }, \n",
      "    \"io\": {\n",
      "        \"save_movie\": true\n",
      "    }, \n",
      "    \"sensor\": {\n",
      "        \"freq\": 40000000.0\n",
      "    }, \n",
      "    \"t_end\": 0.0001\n",
      "}\n"
     ]
    }
   ],
   "source": [
    "with open(param_path, 'r') as f: param = json.load(f)\n",
    "print(json.dumps(param, indent=4))"
   ]
  },
  {
   "cell_type": "markdown",
   "metadata": {},
   "source": [
    "## sampling points"
   ]
  },
  {
   "cell_type": "code",
   "execution_count": null,
   "metadata": {},
   "outputs": [],
   "source": []
  },
  {
   "cell_type": "markdown",
   "metadata": {},
   "source": [
    "### True medium distributions"
   ]
  },
  {
   "cell_type": "markdown",
   "metadata": {},
   "source": [
    "## preprocess"
   ]
  },
  {
   "cell_type": "code",
   "execution_count": 7,
   "metadata": {},
   "outputs": [
    {
     "ename": "NameError",
     "evalue": "name 'x' is not defined",
     "output_type": "error",
     "traceback": [
      "\u001b[0;31m\u001b[0m",
      "\u001b[0;31mNameError\u001b[0mTraceback (most recent call last)",
      "\u001b[0;32m<ipython-input-7-c9a19899ab32>\u001b[0m in \u001b[0;36m<module>\u001b[0;34m()\u001b[0m\n\u001b[0;32m----> 1\u001b[0;31m \u001b[0mmap_speed\u001b[0m\u001b[0;34m,\u001b[0m \u001b[0mmap_dens\u001b[0m\u001b[0;34m,\u001b[0m \u001b[0mmat_pre\u001b[0m \u001b[0;34m=\u001b[0m \u001b[0mpreprocess\u001b[0m\u001b[0;34m(\u001b[0m\u001b[0mresult_path\u001b[0m\u001b[0;34m,\u001b[0m \u001b[0;34m[\u001b[0m\u001b[0;34m[\u001b[0m\u001b[0mx\u001b[0m\u001b[0;34m,\u001b[0m\u001b[0my\u001b[0m\u001b[0;34m]\u001b[0m\u001b[0;34m]\u001b[0m\u001b[0;34m,\u001b[0m \u001b[0moffset\u001b[0m \u001b[0;34m=\u001b[0m \u001b[0;36m1\u001b[0m\u001b[0;34m)\u001b[0m\u001b[0;34m\u001b[0m\u001b[0m\n\u001b[0m",
      "\u001b[0;31mNameError\u001b[0m: name 'x' is not defined"
     ]
    }
   ],
   "source": [
    "map_speed, map_dens, mat_pre = preprocess(result_path, points, offset = 1)"
   ]
  },
  {
   "cell_type": "code",
   "execution_count": 7,
   "metadata": {},
   "outputs": [
    {
     "data": {
      "image/png": "[encoded data removed]",
      "text/plain": [
       "<matplotlib.figure.Figure at 0x7f06085e5290>"
      ]
     },
     "metadata": {},
     "output_type": "display_data"
    },
    {
     "data": {
      "image/png": "[encoded data removed]",
      "text/plain": [
       "<matplotlib.figure.Figure at 0x7f060858bd90>"
      ]
     },
     "metadata": {},
     "output_type": "display_data"
    }
   ],
   "source": [
    "map_speed = h5py.File(medium_path, \"r\")[\"medium\"][\"sound_speed\"]\n",
    "map_dens = h5py.File(medium_path, \"r\")[\"medium\"][\"density\"]\n",
    "\n",
    "plt.imshow(map_dens, cmap='gray')\n",
    "plt.plot()\n",
    "plt.colorbar()\n",
    "plt.title(\"density map\")\n",
    "plt.show()\n",
    "plt.imshow(map_speed, cmap='gray')\n",
    "plt.colorbar()\n",
    "plt.title(\"sound speed map\")\n",
    "plt.show()"
   ]
  },
  {
   "cell_type": "markdown",
   "metadata": {},
   "source": [
    "## RF data loading"
   ]
  },
  {
   "cell_type": "code",
   "execution_count": 8,
   "metadata": {},
   "outputs": [],
   "source": [
    "rf = RFdata(\n",
    "    pos = arr_pos,\n",
    "    data = mat_rfdata,\n",
    "    src = np.array(param[\"source\"][\"point_map\"])-1,\n",
    "    rcv = np.arange(param[\"ringarray\"][\"num_points\"]),\n",
    "    dt = 1.0/param[\"sensor\"][\"freq\"],\n",
    "    c = np.mean(map_speed)\n",
    ")"
   ]
  },
  {
   "cell_type": "code",
   "execution_count": 9,
   "metadata": {},
   "outputs": [
    {
     "data": {
      "text/plain": [
       "(406, 405)"
      ]
     },
     "execution_count": 9,
     "metadata": {},
     "output_type": "execute_result"
    }
   ],
   "source": [
    "ix = np.random.randint(300, 700)\n",
    "iy = np.random.randint(400, 600)\n",
    "(ix, iy)"
   ]
  },
  {
   "cell_type": "code",
   "execution_count": 10,
   "metadata": {},
   "outputs": [
    {
     "data": {
      "text/plain": [
       "(0.05075, 0.050625)"
      ]
     },
     "execution_count": 10,
     "metadata": {},
     "output_type": "execute_result"
    }
   ],
   "source": [
    "x = ix * param[\"grid\"][\"dx\"]\n",
    "y = iy * param[\"grid\"][\"dy\"]\n",
    "(x, y)"
   ]
  },
  {
   "cell_type": "code",
   "execution_count": 14,
   "metadata": {},
   "outputs": [],
   "source": [
    "offset_array = np.arange(-50, 50, 1)\n",
    "target = np.array([y,x])"
   ]
  },
  {
   "cell_type": "code",
   "execution_count": 17,
   "metadata": {},
   "outputs": [],
   "source": [
    "rf_sub = rf.getPointSubset(target, offset_array)"
   ]
  },
  {
   "cell_type": "code",
   "execution_count": 18,
   "metadata": {},
   "outputs": [
    {
     "data": {
      "image/png": "[encoded data removed]",
      "text/plain": [
       "<matplotlib.figure.Figure at 0x7f0607de9c50>"
      ]
     },
     "metadata": {},
     "output_type": "display_data"
    }
   ],
   "source": [
    "for tx in range(16):\n",
    "    plt.subplot(16, 1 , tx+1)\n",
    "    plt.plot(rf_sub[tx, 0, :])"
   ]
  }
 ],
 "metadata": {
  "kernelspec": {
   "display_name": "Python 3",
   "language": "python",
   "name": "python3"
  },
  "language_info": {
   "codemirror_mode": {
    "name": "ipython",
    "version": 2
   },
   "file_extension": ".py",
   "mimetype": "text/x-python",
   "name": "python",
   "nbconvert_exporter": "python",
   "pygments_lexer": "ipython2",
   "version": "2.7.12"
  }
 },
 "nbformat": 4,
 "nbformat_minor": 1
}
