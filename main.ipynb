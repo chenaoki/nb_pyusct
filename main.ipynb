{
 "cells": [
  {
   "cell_type": "code",
   "execution_count": 1,
   "metadata": {},
   "outputs": [],
   "source": [
    "import numpy as np\n",
    "import matplotlib.pyplot as plt\n",
    "\n",
    "import json\n",
    "import h5py\n",
    "import os\n",
    "import scipy.io\n",
    "\n",
    "%matplotlib inline\n"
   ]
  },
  {
   "cell_type": "code",
   "execution_count": 2,
   "metadata": {},
   "outputs": [],
   "source": [
    "import pyusct\n",
    "from pyusct.rfdata import RFdata"
   ]
  },
  {
   "cell_type": "code",
   "execution_count": 3,
   "metadata": {},
   "outputs": [],
   "source": [
    "result_path = \"/mnt/nas/2017-11-23_2/\"\n",
    "\n",
    "param_path = os.path.join(result_path, 'param.json')\n",
    "medium_path = os.path.join(result_path, 'medium.mat')\n",
    "sensor_path = os.path.join(result_path, 'sensor.mat')\n",
    "rfdata_path = os.path.join(result_path, 'rfdata.mat')\n",
    "kgrid_path = os.path.join(result_path, 'kgrig.mat')\n"
   ]
  },
  {
   "cell_type": "markdown",
   "metadata": {},
   "source": [
    "## Simulation paramters and results"
   ]
  },
  {
   "cell_type": "code",
   "execution_count": 4,
   "metadata": {},
   "outputs": [
    {
     "name": "stdout",
     "output_type": "stream",
     "text": [
      "grid\n",
      "io\n",
      "ringarray\n",
      "t_end\n",
      "sensor\n",
      "source\n"
     ]
    }
   ],
   "source": [
    "with open(param_path, 'r') as f: param = json.load(f)\n",
    "for key in param.keys(): print(key)"
   ]
  },
  {
   "cell_type": "code",
   "execution_count": 5,
   "metadata": {},
   "outputs": [
    {
     "data": {
      "text/plain": [
       "(256, 2)"
      ]
     },
     "execution_count": 5,
     "metadata": {},
     "output_type": "execute_result"
    }
   ],
   "source": [
    "arr_pos = scipy.io.loadmat(sensor_path)[\"sensor\"][\"mask\"][0][0].T\n",
    "arr_pos.shape"
   ]
  },
  {
   "cell_type": "code",
   "execution_count": 6,
   "metadata": {
    "scrolled": true
   },
   "outputs": [
    {
     "data": {
      "text/plain": [
       "(16, 256, 4374)"
      ]
     },
     "execution_count": 6,
     "metadata": {},
     "output_type": "execute_result"
    }
   ],
   "source": [
    "mat_rfdata = h5py.File(rfdata_path, \"r\")[\"rfdata\"]\n",
    "mat_rfdata.shape"
   ]
  },
  {
   "cell_type": "markdown",
   "metadata": {},
   "source": [
    "(#source step, #sensor, #sampling)"
   ]
  },
  {
   "cell_type": "markdown",
   "metadata": {},
   "source": [
    "## True medium distributions"
   ]
  },
  {
   "cell_type": "code",
   "execution_count": 7,
   "metadata": {},
   "outputs": [
    {
     "data": {
      "image/png": "[encoded data removed]",
      "text/plain": [
       "<matplotlib.figure.Figure at 0x7f8e434eb630>"
      ]
     },
     "metadata": {},
     "output_type": "display_data"
    },
    {
     "data": {
      "image/png": "[encoded data removed]",
      "text/plain": [
       "<matplotlib.figure.Figure at 0x7f8e413b5cc0>"
      ]
     },
     "metadata": {},
     "output_type": "display_data"
    }
   ],
   "source": [
    "map_speed = h5py.File(medium_path, \"r\")[\"medium\"][\"sound_speed\"]\n",
    "map_dens = h5py.File(medium_path, \"r\")[\"medium\"][\"density\"]\n",
    "\n",
    "plt.imshow(map_dens, cmap='gray')\n",
    "plt.plot()\n",
    "plt.colorbar()\n",
    "plt.title(\"density map\")\n",
    "plt.show()\n",
    "plt.imshow(map_speed, cmap='gray')\n",
    "plt.colorbar()\n",
    "plt.title(\"sound speed map\")\n",
    "plt.show()"
   ]
  },
  {
   "cell_type": "markdown",
   "metadata": {},
   "source": [
    "## RF data loading"
   ]
  },
  {
   "cell_type": "code",
   "execution_count": 8,
   "metadata": {},
   "outputs": [],
   "source": [
    "rf = RFdata(\n",
    "    pos = arr_pos,\n",
    "    data = mat_rfdata,\n",
    "    src = np.array(param[\"source\"][\"point_map\"])-1,\n",
    "    rcv = np.arange(param[\"ringarray\"][\"num_points\"]),\n",
    "    dt = 1.0/param[\"sensor\"][\"freq\"],\n",
    "    c = np.mean(map_speed)\n",
    ")"
   ]
  },
  {
   "cell_type": "code",
   "execution_count": 9,
   "metadata": {},
   "outputs": [
    {
     "data": {
      "text/plain": [
       "(16, 256, 4374)"
      ]
     },
     "execution_count": 9,
     "metadata": {},
     "output_type": "execute_result"
    }
   ],
   "source": [
    "rf.data.shape"
   ]
  },
  {
   "cell_type": "code",
   "execution_count": 10,
   "metadata": {},
   "outputs": [
    {
     "data": {
      "text/plain": [
       "(16, 256)"
      ]
     },
     "execution_count": 10,
     "metadata": {},
     "output_type": "execute_result"
    }
   ],
   "source": [
    "rf.mesh_src.shape"
   ]
  },
  {
   "cell_type": "code",
   "execution_count": 12,
   "metadata": {},
   "outputs": [
    {
     "data": {
      "text/plain": [
       "(16, 256, 2)"
      ]
     },
     "execution_count": 12,
     "metadata": {},
     "output_type": "execute_result"
    }
   ],
   "source": [
    "rf.pos_src.shape"
   ]
  },
  {
   "cell_type": "code",
   "execution_count": 13,
   "metadata": {},
   "outputs": [
    {
     "data": {
      "image/png": "[encoded data removed]",
      "text/plain": [
       "<matplotlib.figure.Figure at 0x7f8e4128b390>"
      ]
     },
     "metadata": {},
     "output_type": "display_data"
    }
   ],
   "source": [
    "plt.figure(figsize=(10,10))\n",
    "plt.subplot(221)\n",
    "plt.imshow(rf.pos_src[:,:,0], cmap='gray')\n",
    "plt.colorbar()\n",
    "plt.title(\"x-pos of src\")\n",
    "plt.subplot(222)\n",
    "plt.imshow(rf.pos_src[:,:,1], cmap='gray')\n",
    "plt.colorbar()\n",
    "plt.title(\"y-pos of src\")\n",
    "plt.subplot(223)\n",
    "plt.imshow(rf.pos_rcv[:,:,0], cmap='gray')\n",
    "plt.colorbar()\n",
    "plt.title(\"x-pos of rcv\")\n",
    "plt.subplot(224)\n",
    "plt.imshow(rf.pos_rcv[:,:,1], cmap='gray')\n",
    "plt.colorbar()\n",
    "plt.title(\"y-pos of rcv\")\n",
    "plt.show()"
   ]
  },
  {
   "cell_type": "code",
   "execution_count": 14,
   "metadata": {},
   "outputs": [
    {
     "data": {
      "text/plain": [
       "<matplotlib.colorbar.Colorbar at 0x7f8e41434710>"
      ]
     },
     "execution_count": 14,
     "metadata": {},
     "output_type": "execute_result"
    },
    {
     "data": {
      "image/png": "[encoded data removed]",
      "text/plain": [
       "<matplotlib.figure.Figure at 0x7f8e434eb080>"
      ]
     },
     "metadata": {},
     "output_type": "display_data"
    }
   ],
   "source": [
    "dist = rf.relevant_submat(np.array([-0.01,0.02])).astype(np.int16)\n",
    "plt.imshow(dist, cmap='jet', interpolation='nearest')\n",
    "plt.title('arrival time map')\n",
    "plt.colorbar()"
   ]
  },
  {
   "cell_type": "code",
   "execution_count": 15,
   "metadata": {},
   "outputs": [
    {
     "data": {
      "image/png": "[encoded data removed]",
      "text/plain": [
       "<matplotlib.figure.Figure at 0x7f8e41226e80>"
      ]
     },
     "metadata": {},
     "output_type": "display_data"
    },
    {
     "data": {
      "image/png": "[encoded data removed]",
      "text/plain": [
       "<matplotlib.figure.Figure at 0x7f8e4145b710>"
      ]
     },
     "metadata": {},
     "output_type": "display_data"
    }
   ],
   "source": [
    "mat_time = np.zeros_like(rf.data, dtype=np.int16)\n",
    "for i in range(mat_time.shape[2]) : mat_time[:,:,i] = i\n",
    "\n",
    "plt.imshow(mat_time[0, :,:], interpolation='nearest')\n",
    "plt.show()\n",
    "plt.imshow(mat_time[:, 0,:], interpolation='nearest')\n",
    "plt.show()"
   ]
  },
  {
   "cell_type": "code",
   "execution_count": 16,
   "metadata": {},
   "outputs": [
    {
     "data": {
      "text/plain": [
       "(16, 256, 4374)"
      ]
     },
     "execution_count": 16,
     "metadata": {},
     "output_type": "execute_result"
    }
   ],
   "source": [
    "mat_time.shape"
   ]
  },
  {
   "cell_type": "code",
   "execution_count": 17,
   "metadata": {},
   "outputs": [
    {
     "data": {
      "text/plain": [
       "(16, 256)"
      ]
     },
     "execution_count": 17,
     "metadata": {},
     "output_type": "execute_result"
    }
   ],
   "source": [
    "dist.shape"
   ]
  },
  {
   "cell_type": "code",
   "execution_count": 18,
   "metadata": {},
   "outputs": [
    {
     "data": {
      "image/png": "[encoded data removed]",
      "text/plain": [
       "<matplotlib.figure.Figure at 0x7f8e4125ab38>"
      ]
     },
     "metadata": {},
     "output_type": "display_data"
    },
    {
     "data": {
      "image/png": "[encoded data removed]",
      "text/plain": [
       "<matplotlib.figure.Figure at 0x7f8e4137d588>"
      ]
     },
     "metadata": {},
     "output_type": "display_data"
    }
   ],
   "source": [
    "mat_time_diff = mat_time - dist[:,:,np.newaxis]\n",
    "\n",
    "plt.imshow(mat_time_diff[0, :,:], interpolation='nearest')\n",
    "plt.show()\n",
    "plt.imshow(mat_time_diff[:, 0,:], interpolation='nearest')\n",
    "plt.show()"
   ]
  },
  {
   "cell_type": "code",
   "execution_count": 19,
   "metadata": {},
   "outputs": [],
   "source": [
    "#!mkdir result"
   ]
  },
  {
   "cell_type": "code",
   "execution_count": 23,
   "metadata": {},
   "outputs": [
    {
     "name": "stdout",
     "output_type": "stream",
     "text": [
      "0\n"
     ]
    },
    {
     "data": {
      "image/png": "[encoded data removed]",
      "text/plain": [
       "<matplotlib.figure.Figure at 0x7f8e3eb19d30>"
      ]
     },
     "metadata": {},
     "output_type": "display_data"
    }
   ],
   "source": [
    "# for offset in np.arange(0, 1, 100):\n",
    "for offset in [0]:\n",
    "    \n",
    "    print(offset)\n",
    "\n",
    "    mat_filter = np.ones_like(mat_time)\n",
    "    mat_filter *= (mat_time_diff == offset)*1\n",
    "\n",
    "    # plt.imshow(mat_filter[0, :, :])\n",
    "    # plt.show()\n",
    "    # plt.imshow(mat_filter[:, 0, :])\n",
    "    # plt.show()\n",
    "\n",
    "    # plt.plot(mat_filter[20,200,:])\n",
    "\n",
    "    rf_filtered = rf.data * mat_filter\n",
    "    map_filtered =np.sum(rf_filtered, axis=2)\n",
    "    plt.imshow(map_filtered, cmap='hot', interpolation='nearest')\n",
    "#     plt.savefig('result/{0:0>5}.png'.format(offset))"
   ]
  },
  {
   "cell_type": "code",
   "execution_count": 24,
   "metadata": {},
   "outputs": [
    {
     "data": {
      "text/plain": [
       "[<matplotlib.lines.Line2D at 0x7f8e3c7f5828>]"
      ]
     },
     "execution_count": 24,
     "metadata": {},
     "output_type": "execute_result"
    },
    {
     "data": {
      "image/png": "[encoded data removed]",
      "text/plain": [
       "<matplotlib.figure.Figure at 0x7f8e3c7f5fd0>"
      ]
     },
     "metadata": {},
     "output_type": "display_data"
    }
   ],
   "source": [
    "plt.plot(rf.data[10,100,:])"
   ]
  }
 ],
 "metadata": {
  "kernelspec": {
   "display_name": "Python 3",
   "language": "python",
   "name": "python3"
  },
  "language_info": {
   "codemirror_mode": {
    "name": "ipython",
    "version": 3
   },
   "file_extension": ".py",
   "mimetype": "text/x-python",
   "name": "python",
   "nbconvert_exporter": "python",
   "pygments_lexer": "ipython3",
   "version": "3.6.3"
  }
 },
 "nbformat": 4,
 "nbformat_minor": 1
}
