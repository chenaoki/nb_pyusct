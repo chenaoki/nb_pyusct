{
 "cells": [
  {
   "cell_type": "code",
   "execution_count": 4,
   "metadata": {},
   "outputs": [],
   "source": [
    "import numpy as np\n",
    "import matplotlib.pyplot as plt\n",
    "import os, json\n",
    "\n",
    "%matplotlib inline\n"
   ]
  },
  {
   "cell_type": "code",
   "execution_count": 5,
   "metadata": {},
   "outputs": [],
   "source": [
    "import pyusct\n",
    "from pyusct.preprocess import preprocess"
   ]
  },
  {
   "cell_type": "code",
   "execution_count": 6,
   "metadata": {},
   "outputs": [],
   "source": [
    "result_path = \"/mnt/nas/2017-11-23_2/\"\n",
    "param_path = os.path.join(result_path, 'param.json')"
   ]
  },
  {
   "cell_type": "code",
   "execution_count": 7,
   "metadata": {},
   "outputs": [
    {
     "name": "stdout",
     "output_type": "stream",
     "text": [
      "{\n",
      "    \"grid\": {\n",
      "        \"Nx\": 1024,\n",
      "        \"Ny\": 1024,\n",
      "        \"dx\": 0.000125,\n",
      "        \"dy\": 0.000125\n",
      "    },\n",
      "    \"io\": {\n",
      "        \"save_movie\": true\n",
      "    },\n",
      "    \"ringarray\": {\n",
      "        \"radius\": 0.05,\n",
      "        \"num_points\": 256\n",
      "    },\n",
      "    \"t_end\": 0.0001,\n",
      "    \"sensor\": {\n",
      "        \"freq\": 40000000.0\n",
      "    },\n",
      "    \"source\": {\n",
      "        \"waveform\": {\n",
      "            \"wavenum\": 1,\n",
      "            \"wavenum_offset\": 2,\n",
      "            \"freq\": 2000000.0,\n",
      "            \"magnitude\": 50,\n",
      "            \"type\": \"sinusoidal\"\n",
      "        },\n",
      "        \"point_map\": [\n",
      "            1,\n",
      "            17,\n",
      "            33,\n",
      "            49,\n",
      "            65,\n",
      "            81,\n",
      "            97,\n",
      "            113,\n",
      "            129,\n",
      "            145,\n",
      "            161,\n",
      "            177,\n",
      "            193,\n",
      "            209,\n",
      "            225,\n",
      "            241\n",
      "        ]\n",
      "    }\n",
      "}\n"
     ]
    }
   ],
   "source": [
    "with open(param_path, 'r') as f: param = json.load(f)\n",
    "print(json.dumps(param, indent=4))"
   ]
  },
  {
   "cell_type": "markdown",
   "metadata": {},
   "source": [
    "## set up sampling point (random)"
   ]
  },
  {
   "cell_type": "code",
   "execution_count": 26,
   "metadata": {},
   "outputs": [
    {
     "data": {
      "text/plain": [
       "(582, 507)"
      ]
     },
     "execution_count": 26,
     "metadata": {},
     "output_type": "execute_result"
    }
   ],
   "source": [
    "ix = np.random.randint(300, 700)\n",
    "iy = np.random.randint(400, 600)\n",
    "(ix, iy)"
   ]
  },
  {
   "cell_type": "code",
   "execution_count": 27,
   "metadata": {},
   "outputs": [
    {
     "data": {
      "text/plain": [
       "(0.07275, 0.063375)"
      ]
     },
     "execution_count": 27,
     "metadata": {},
     "output_type": "execute_result"
    }
   ],
   "source": [
    "x = ix * param[\"grid\"][\"dx\"]\n",
    "y = iy * param[\"grid\"][\"dy\"]\n",
    "(x, y)"
   ]
  },
  {
   "cell_type": "code",
   "execution_count": 28,
   "metadata": {},
   "outputs": [],
   "source": [
    "map_speed, map_dens, mat_pre = preprocess(result_path, [[x,y]], offset = 1)"
   ]
  },
  {
   "cell_type": "code",
   "execution_count": 32,
   "metadata": {},
   "outputs": [
    {
     "data": {
      "text/plain": [
       "<matplotlib.colorbar.Colorbar at 0x7f9af971b5c0>"
      ]
     },
     "execution_count": 32,
     "metadata": {},
     "output_type": "execute_result"
    },
    {
     "data": {
      "image/png": "[encoded data removed]",
      "text/plain": [
       "<matplotlib.figure.Figure at 0x7f9af9651588>"
      ]
     },
     "metadata": {},
     "output_type": "display_data"
    }
   ],
   "source": [
    "r = 15\n",
    "plt.imshow(map_speed[iy-r:iy+r+1, ix-r:ix+r+1])\n",
    "plt.colorbar()"
   ]
  },
  {
   "cell_type": "code",
   "execution_count": 33,
   "metadata": {},
   "outputs": [],
   "source": [
    "#plt.imshow(map_dens[iy-r:iy+r+1, ix-r:ix+r+1])"
   ]
  },
  {
   "cell_type": "code",
   "execution_count": 34,
   "metadata": {},
   "outputs": [
    {
     "data": {
      "image/png": "[encoded data removed]",
      "text/plain": [
       "<matplotlib.figure.Figure at 0x7f9af9830a58>"
      ]
     },
     "metadata": {},
     "output_type": "display_data"
    }
   ],
   "source": [
    "for j in range(mat_pre.shape[3]):\n",
    "    plt.subplot(mat_pre.shape[3], 1, j+1)\n",
    "    plt.imshow( mat_pre[0,:,:,j], vmin = 0., vmax = 1.0)\n",
    "    plt.colorbar()"
   ]
  },
  {
   "cell_type": "markdown",
   "metadata": {},
   "source": [
    "## True medium distributions"
   ]
  },
  {
   "cell_type": "code",
   "execution_count": 11,
   "metadata": {},
   "outputs": [
    {
     "data": {
      "image/png": "[encoded data removed]",
      "text/plain": [
       "<matplotlib.figure.Figure at 0x7f9af9b32c88>"
      ]
     },
     "metadata": {},
     "output_type": "display_data"
    },
    {
     "data": {
      "image/png": "[encoded data removed]",
      "text/plain": [
       "<matplotlib.figure.Figure at 0x7f9af9801908>"
      ]
     },
     "metadata": {},
     "output_type": "display_data"
    }
   ],
   "source": [
    "plt.imshow(map_dens, cmap='gray')\n",
    "plt.plot()\n",
    "plt.colorbar()\n",
    "plt.title(\"density map\")\n",
    "plt.show()\n",
    "plt.imshow(map_speed, cmap='gray')\n",
    "plt.colorbar()\n",
    "plt.title(\"sound speed map\")\n",
    "plt.show()"
   ]
  }
 ],
 "metadata": {
  "kernelspec": {
   "display_name": "Python 3",
   "language": "python",
   "name": "python3"
  },
  "language_info": {
   "codemirror_mode": {
    "name": "ipython",
    "version": 3
   },
   "file_extension": ".py",
   "mimetype": "text/x-python",
   "name": "python",
   "nbconvert_exporter": "python",
   "pygments_lexer": "ipython3",
   "version": "3.6.3"
  }
 },
 "nbformat": 4,
 "nbformat_minor": 1
}
