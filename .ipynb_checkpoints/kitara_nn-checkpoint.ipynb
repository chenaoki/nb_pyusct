{
 "cells": [
  {
   "cell_type": "code",
   "execution_count": 1,
   "metadata": {},
   "outputs": [],
   "source": [
    "import scipy, h5py\n",
    "import numpy as np\n",
    "import matplotlib.pyplot as plt\n",
    "import os, json\n",
    "\n",
    "%matplotlib inline\n"
   ]
  },
  {
   "cell_type": "code",
   "execution_count": 2,
   "metadata": {},
   "outputs": [],
   "source": [
    "import pyusct\n",
    "from pyusct.preprocess import get_truth, preprocess\n",
    "from pyusct.rfdata import RFdata"
   ]
  },
  {
   "cell_type": "code",
   "execution_count": 3,
   "metadata": {},
   "outputs": [],
   "source": [
    "result_path = \"/mnt/nas/2017-11-23_2/\"\n",
    "param_path = os.path.join(result_path, 'param.json')\n",
    "sensor_path = os.path.join(result_path, 'sensor.mat')\n",
    "rfdata_path = os.path.join(result_path, 'rfdata.mat')"
   ]
  },
  {
   "cell_type": "markdown",
   "metadata": {},
   "source": [
    "## Ground Truth"
   ]
  },
  {
   "cell_type": "code",
   "execution_count": 4,
   "metadata": {
    "scrolled": true
   },
   "outputs": [
    {
     "name": "stdout",
     "output_type": "stream",
     "text": [
      "{\n",
      "    \"ringarray\": {\n",
      "        \"num_points\": 256, \n",
      "        \"radius\": 0.05\n",
      "    }, \n",
      "    \"source\": {\n",
      "        \"point_map\": [\n",
      "            1, \n",
      "            17, \n",
      "            33, \n",
      "            49, \n",
      "            65, \n",
      "            81, \n",
      "            97, \n",
      "            113, \n",
      "            129, \n",
      "            145, \n",
      "            161, \n",
      "            177, \n",
      "            193, \n",
      "            209, \n",
      "            225, \n",
      "            241\n",
      "        ], \n",
      "        \"waveform\": {\n",
      "            \"wavenum\": 1, \n",
      "            \"magnitude\": 50, \n",
      "            \"type\": \"sinusoidal\", \n",
      "            \"freq\": 2000000.0, \n",
      "            \"wavenum_offset\": 2\n",
      "        }\n",
      "    }, \n",
      "    \"grid\": {\n",
      "        \"Nx\": 1024, \n",
      "        \"Ny\": 1024, \n",
      "        \"dx\": 0.000125, \n",
      "        \"dy\": 0.000125\n",
      "    }, \n",
      "    \"io\": {\n",
      "        \"save_movie\": true\n",
      "    }, \n",
      "    \"sensor\": {\n",
      "        \"freq\": 40000000.0\n",
      "    }, \n",
      "    \"t_end\": 0.0001\n",
      "}\n"
     ]
    }
   ],
   "source": [
    "with open(param_path, 'r') as f: param = json.load(f)\n",
    "print(json.dumps(param, indent=4))"
   ]
  },
  {
   "cell_type": "code",
   "execution_count": 5,
   "metadata": {},
   "outputs": [],
   "source": [
    "map_speed, map_dens = get_truth(result_path)"
   ]
  },
  {
   "cell_type": "code",
   "execution_count": 6,
   "metadata": {},
   "outputs": [
    {
     "data": {
      "image/png": "[encoded data removed]",
      "text/plain": [
       "<matplotlib.figure.Figure at 0x7f608c07d650>"
      ]
     },
     "metadata": {},
     "output_type": "display_data"
    },
    {
     "data": {
      "image/png": "[encoded data removed]",
      "text/plain": [
       "<matplotlib.figure.Figure at 0x7f608bfd2a50>"
      ]
     },
     "metadata": {},
     "output_type": "display_data"
    }
   ],
   "source": [
    "plt.imshow(map_speed, cmap='gray')\n",
    "plt.colorbar()\n",
    "plt.title(\"sound speed map\")\n",
    "plt.show()\n",
    "\n",
    "plt.imshow(map_dens, cmap='gray')\n",
    "plt.plot()\n",
    "plt.colorbar()\n",
    "plt.title(\"density map\")\n",
    "plt.show()"
   ]
  },
  {
   "cell_type": "markdown",
   "metadata": {},
   "source": [
    "## Input data"
   ]
  },
  {
   "cell_type": "code",
   "execution_count": 7,
   "metadata": {},
   "outputs": [],
   "source": [
    "with open(param_path, 'r') as f: param = json.load(f)\n",
    "arr_pos = scipy.io.loadmat(sensor_path)[\"sensor\"][\"mask\"][0][0].T\n",
    "mat_rfdata = h5py.File(rfdata_path, \"r\")[\"rfdata\"]"
   ]
  },
  {
   "cell_type": "code",
   "execution_count": 8,
   "metadata": {},
   "outputs": [],
   "source": [
    "mat_normalized = mat_rfdata\n",
    "map_speed, _ = get_truth(result_path)\n",
    "\n",
    "rf = RFdata(\n",
    "    pos = arr_pos,\n",
    "    data = mat_normalized,\n",
    "    src = np.array(param[\"source\"][\"point_map\"])-1,\n",
    "    rcv = np.arange(param[\"ringarray\"][\"num_points\"]),\n",
    "    dt = 1.0/param[\"sensor\"][\"freq\"],\n",
    "    c = np.mean(map_speed)\n",
    ")"
   ]
  },
  {
   "cell_type": "code",
   "execution_count": 9,
   "metadata": {},
   "outputs": [],
   "source": [
    "points = []\n",
    "points_i = []\n",
    "for _ in range(10000):\n",
    "    ix = np.random.randint(300, 700)\n",
    "    iy = np.random.randint(400, 600)\n",
    "    x = ix * param[\"grid\"][\"dx\"]\n",
    "    y = iy * param[\"grid\"][\"dy\"]\n",
    "    points_i.append([iy, ix])\n",
    "    points.append([y, x])"
   ]
  },
  {
   "cell_type": "code",
   "execution_count": null,
   "metadata": {},
   "outputs": [],
   "source": [
    "start, end, step = -10, 10, 1\n",
    "hyperplanes = np.zeros((len(points), rf.data.shape[0]*rf.data.shape[1]*(end-start)/step))\n",
    "for i, point in enumerate(points):\n",
    "    hp = rf.getArrivalTimeHyperplane(point, np.arange(start, end, step)).flatten()\n",
    "    hyperplanes[i] = hp\n",
    "\n",
    "import pickle\n",
    "with open(\"training_data.pickle\", mode=\"wb\") as f:\n",
    "    pickle.dump(hyperplanes, f)\n",
    "\n",
    "_hyperplanes = np.load(\"training_data.pickle\")\n",
    "assert(np.all(hyperplanes==_hyperplanes))"
   ]
  }
 ],
 "metadata": {
  "kernelspec": {
   "display_name": "Python 3",
   "language": "python",
   "name": "python3"
  },
  "language_info": {
   "codemirror_mode": {
    "name": "ipython",
    "version": 2
   },
   "file_extension": ".py",
   "mimetype": "text/x-python",
   "name": "python",
   "nbconvert_exporter": "python",
   "pygments_lexer": "ipython2",
   "version": "2.7.12"
  }
 },
 "nbformat": 4,
 "nbformat_minor": 2
}
